{
 "cells": [
  {
   "cell_type": "markdown",
   "id": "499ec870",
   "metadata": {},
   "source": [
    "Meu primeiro programa teste"
   ]
  },
  {
   "cell_type": "code",
   "execution_count": 5,
   "id": "b70b9d88",
   "metadata": {},
   "outputs": [
    {
     "name": "stdout",
     "output_type": "stream",
     "text": [
      "QUACK QUACK\n",
      "2\n"
     ]
    }
   ],
   "source": [
    "Dois_patos = 'QUACK QUACK'\n",
    "QUACK_QUACK = 2\n",
    "\n",
    "print (Dois_patos)\n",
    "print (QUACK_QUACK)\n"
   ]
  },
  {
   "cell_type": "code",
   "execution_count": 7,
   "id": "08f2203e",
   "metadata": {},
   "outputs": [
    {
     "name": "stdout",
     "output_type": "stream",
     "text": [
      "Você esta bem?sim\n",
      "Certeza?opa\n",
      "sim opa\n"
     ]
    }
   ],
   "source": [
    "Sentimento = input ('Você esta bem?')\n",
    "Confirmação = input ('Certeza?')\n",
    "\n",
    "print (Sentimento + ' ' + Confirmação)\n"
   ]
  },
  {
   "cell_type": "code",
   "execution_count": 10,
   "id": "009ae822",
   "metadata": {},
   "outputs": [
    {
     "name": "stdout",
     "output_type": "stream",
     "text": [
      "quantos anos voce tem 28\n",
      "qual seu sexo masculino\n",
      "qual sua altura 1.95\n"
     ]
    }
   ],
   "source": [
    "idade = 28\n",
    "sexo = 'masculino'\n",
    "altura = 1.95\n",
    "\n",
    "print ('quantos anos voce tem ' + str(idade))\n",
    "print ('qual seu sexo ' + sexo)\n",
    "print ('qual sua altura ' + str(altura))"
   ]
  },
  {
   "cell_type": "code",
   "execution_count": 14,
   "id": "2776f3ea",
   "metadata": {},
   "outputs": [
    {
     "name": "stdout",
     "output_type": "stream",
     "text": [
      "o faturamento da loja foi 600\n",
      "o custo da loja foi 100\n",
      "assim, o lucro da loja foi de 500R$\n"
     ]
    }
   ],
   "source": [
    "faturamento = 600\n",
    "custo = 100\n",
    "lucro = faturamento - custo\n",
    "\n",
    "print ('o faturamento da loja foi ' + str(faturamento))\n",
    "print ('o custo da loja foi ' + str(custo))\n",
    "print ('assim, o lucro da loja foi de ' + str(lucro)+'R$')"
   ]
  },
  {
   "cell_type": "markdown",
   "id": "bfe57a45",
   "metadata": {},
   "source": [
    "## Metodo .format"
   ]
  },
  {
   "cell_type": "code",
   "execution_count": 16,
   "id": "76bfe064",
   "metadata": {},
   "outputs": [
    {
     "name": "stdout",
     "output_type": "stream",
     "text": [
      "o faturamento da loja foi 600, mas seu custo estava em 100, sendo assim um lucro de 500\n"
     ]
    }
   ],
   "source": [
    "faturamento = 600\n",
    "custo = 100\n",
    "lucro = faturamento - custo\n",
    "\n",
    "print('o faturamento da loja foi {}, mas seu custo estava em {}, sendo assim um lucro de {}' .format(faturamento, custo, lucro))"
   ]
  },
  {
   "cell_type": "code",
   "execution_count": 1,
   "id": "24925c11",
   "metadata": {},
   "outputs": [
    {
     "name": "stdout",
     "output_type": "stream",
     "text": [
      "joao ao seus 28 tinha duvida sobre sua profissão, sua altura era 1.95 \n"
     ]
    }
   ],
   "source": [
    "I = 28\n",
    "P = 'profissão'\n",
    "A = 1.95\n",
    "\n",
    "print ('joao ao seus {} tinha duvida sobre sua {}, sua altura era {} ' .format(I,P,A))"
   ]
  },
  {
   "cell_type": "markdown",
   "id": "f6d7ae89",
   "metadata": {},
   "source": [
    "## Exercicio If condição"
   ]
  },
  {
   "cell_type": "code",
   "execution_count": 14,
   "id": "95aea52e",
   "metadata": {},
   "outputs": [
    {
     "name": "stdout",
     "output_type": "stream",
     "text": [
      "Meta nao batida, faltaram 20000 peças\n"
     ]
    }
   ],
   "source": [
    "#vendas Iphone \n",
    "meta = 50000\n",
    "qntd_vendas = 30000\n",
    "\n",
    "if qntd_vendas >= meta:\n",
    "    print ('Meta Batida. um total de {} Peças' .format(qntd_vendas))\n",
    "else:\n",
    "    print ('Meta nao batida, faltaram ' + str(meta - qntd_vendas)+' peças')\n"
   ]
  },
  {
   "cell_type": "code",
   "execution_count": 19,
   "id": "4261f374",
   "metadata": {},
   "outputs": [
    {
     "name": "stdout",
     "output_type": "stream",
     "text": [
      "o funcionario 1 ganhou 100.0 de bônus\n",
      "o funcionario 2 ganhou 0 de bônus\n",
      "o funcionario 3 ganhou 270.0 de bônus\n"
     ]
    }
   ],
   "source": [
    "meta = 1000\n",
    "vendas_funcionario1 = 1000\n",
    "vendas_funcionario2 = 770\n",
    "vendas_funcionario3 = 2700\n",
    "\n",
    "#crie seu código aqui\n",
    "\n",
    "if vendas_funcionario1 >= meta:\n",
    "    bonus = 0.10 * vendas_funcionario1\n",
    "    print('o funcionario 1 ganhou {} de bônus' .format(bonus))\n",
    "    \n",
    "if vendas_funcionario2 >= meta:\n",
    "    bonus = vendas_funcionario2 * 0.1\n",
    "else:\n",
    "    bonus = 0 \n",
    "print('o funcionario 2 ganhou {} de bônus' .format(bonus))\n",
    "\n",
    "if vendas_funcionario3 >= meta:\n",
    "    bonus = vendas_funcionario3 * 0.1\n",
    "else:\n",
    "    bonus = 0\n",
    "print('o funcionario 3 ganhou {} de bônus' .format(bonus))"
   ]
  }
 ],
 "metadata": {
  "kernelspec": {
   "display_name": "Python 3 (ipykernel)",
   "language": "python",
   "name": "python3"
  },
  "language_info": {
   "codemirror_mode": {
    "name": "ipython",
    "version": 3
   },
   "file_extension": ".py",
   "mimetype": "text/x-python",
   "name": "python",
   "nbconvert_exporter": "python",
   "pygments_lexer": "ipython3",
   "version": "3.10.9"
  }
 },
 "nbformat": 4,
 "nbformat_minor": 5
}
